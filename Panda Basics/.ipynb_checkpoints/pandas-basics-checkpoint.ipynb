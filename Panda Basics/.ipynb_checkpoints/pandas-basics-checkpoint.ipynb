{
 "cells": [
  {
   "cell_type": "markdown",
   "id": "3b01a793-8fce-4bf6-bb7d-d3355e015104",
   "metadata": {},
   "source": [
    "## Pandas Basics"
   ]
  },
  {
   "cell_type": "markdown",
   "id": "999d6b98-653b-4aa9-b29a-3e785b5acc58",
   "metadata": {},
   "source": [
    "Pandas is a software library written for the Python programming language for data manipulation and analysis. In particular, it offers data structures and operations for manipulating numerical tables and time series. "
   ]
  },
  {
   "cell_type": "code",
   "execution_count": 1,
   "id": "c2e37a6f-254a-447f-a477-42a48affde1d",
   "metadata": {},
   "outputs": [],
   "source": [
    "import pandas as pd"
   ]
  },
  {
   "cell_type": "markdown",
   "id": "dc4a23b8-7ff8-4c2a-8433-05e3c9a6eb85",
   "metadata": {},
   "source": [
    "### 1.Reading in DataFrames From Files"
   ]
  },
  {
   "cell_type": "markdown",
   "id": "0c0022ca-b6f4-42e8-9ca0-85633acff6fe",
   "metadata": {},
   "source": [
    "The pandas.read_csv command reads a comma-separated values (csv) file into DataFrame."
   ]
  },
  {
   "cell_type": "markdown",
   "id": "899f934a-5662-412e-8996-a7ab874073ae",
   "metadata": {},
   "source": [
    "_Using the read_csv command to load elections.csv file and Assign it as elections_"
   ]
  },
  {
   "cell_type": "code",
   "execution_count": 2,
   "id": "366ac272-1742-4f92-929a-7ae249c2f550",
   "metadata": {},
   "outputs": [
    {
     "data": {
      "text/html": [
       "<div>\n",
       "<style scoped>\n",
       "    .dataframe tbody tr th:only-of-type {\n",
       "        vertical-align: middle;\n",
       "    }\n",
       "\n",
       "    .dataframe tbody tr th {\n",
       "        vertical-align: top;\n",
       "    }\n",
       "\n",
       "    .dataframe thead th {\n",
       "        text-align: right;\n",
       "    }\n",
       "</style>\n",
       "<table border=\"1\" class=\"dataframe\">\n",
       "  <thead>\n",
       "    <tr style=\"text-align: right;\">\n",
       "      <th></th>\n",
       "      <th>Year</th>\n",
       "      <th>Candidate</th>\n",
       "      <th>Party</th>\n",
       "      <th>Popular vote</th>\n",
       "      <th>Result</th>\n",
       "      <th>%</th>\n",
       "    </tr>\n",
       "  </thead>\n",
       "  <tbody>\n",
       "    <tr>\n",
       "      <th>0</th>\n",
       "      <td>1824</td>\n",
       "      <td>Andrew Jackson</td>\n",
       "      <td>Democratic-Republican</td>\n",
       "      <td>151271</td>\n",
       "      <td>loss</td>\n",
       "      <td>57.210122</td>\n",
       "    </tr>\n",
       "    <tr>\n",
       "      <th>1</th>\n",
       "      <td>1824</td>\n",
       "      <td>John Quincy Adams</td>\n",
       "      <td>Democratic-Republican</td>\n",
       "      <td>113142</td>\n",
       "      <td>win</td>\n",
       "      <td>42.789878</td>\n",
       "    </tr>\n",
       "    <tr>\n",
       "      <th>2</th>\n",
       "      <td>1828</td>\n",
       "      <td>Andrew Jackson</td>\n",
       "      <td>Democratic</td>\n",
       "      <td>642806</td>\n",
       "      <td>win</td>\n",
       "      <td>56.203927</td>\n",
       "    </tr>\n",
       "    <tr>\n",
       "      <th>3</th>\n",
       "      <td>1828</td>\n",
       "      <td>John Quincy Adams</td>\n",
       "      <td>National Republican</td>\n",
       "      <td>500897</td>\n",
       "      <td>loss</td>\n",
       "      <td>43.796073</td>\n",
       "    </tr>\n",
       "    <tr>\n",
       "      <th>4</th>\n",
       "      <td>1832</td>\n",
       "      <td>Andrew Jackson</td>\n",
       "      <td>Democratic</td>\n",
       "      <td>702735</td>\n",
       "      <td>win</td>\n",
       "      <td>54.574789</td>\n",
       "    </tr>\n",
       "    <tr>\n",
       "      <th>...</th>\n",
       "      <td>...</td>\n",
       "      <td>...</td>\n",
       "      <td>...</td>\n",
       "      <td>...</td>\n",
       "      <td>...</td>\n",
       "      <td>...</td>\n",
       "    </tr>\n",
       "    <tr>\n",
       "      <th>177</th>\n",
       "      <td>2016</td>\n",
       "      <td>Jill Stein</td>\n",
       "      <td>Green</td>\n",
       "      <td>1457226</td>\n",
       "      <td>loss</td>\n",
       "      <td>1.073699</td>\n",
       "    </tr>\n",
       "    <tr>\n",
       "      <th>178</th>\n",
       "      <td>2020</td>\n",
       "      <td>Joseph Biden</td>\n",
       "      <td>Democratic</td>\n",
       "      <td>81268924</td>\n",
       "      <td>win</td>\n",
       "      <td>51.311515</td>\n",
       "    </tr>\n",
       "    <tr>\n",
       "      <th>179</th>\n",
       "      <td>2020</td>\n",
       "      <td>Donald Trump</td>\n",
       "      <td>Republican</td>\n",
       "      <td>74216154</td>\n",
       "      <td>loss</td>\n",
       "      <td>46.858542</td>\n",
       "    </tr>\n",
       "    <tr>\n",
       "      <th>180</th>\n",
       "      <td>2020</td>\n",
       "      <td>Jo Jorgensen</td>\n",
       "      <td>Libertarian</td>\n",
       "      <td>1865724</td>\n",
       "      <td>loss</td>\n",
       "      <td>1.177979</td>\n",
       "    </tr>\n",
       "    <tr>\n",
       "      <th>181</th>\n",
       "      <td>2020</td>\n",
       "      <td>Howard Hawkins</td>\n",
       "      <td>Green</td>\n",
       "      <td>405035</td>\n",
       "      <td>loss</td>\n",
       "      <td>0.255731</td>\n",
       "    </tr>\n",
       "  </tbody>\n",
       "</table>\n",
       "<p>182 rows × 6 columns</p>\n",
       "</div>"
      ],
      "text/plain": [
       "     Year          Candidate                  Party  Popular vote Result  \\\n",
       "0    1824     Andrew Jackson  Democratic-Republican        151271   loss   \n",
       "1    1824  John Quincy Adams  Democratic-Republican        113142    win   \n",
       "2    1828     Andrew Jackson             Democratic        642806    win   \n",
       "3    1828  John Quincy Adams    National Republican        500897   loss   \n",
       "4    1832     Andrew Jackson             Democratic        702735    win   \n",
       "..    ...                ...                    ...           ...    ...   \n",
       "177  2016         Jill Stein                  Green       1457226   loss   \n",
       "178  2020       Joseph Biden             Democratic      81268924    win   \n",
       "179  2020       Donald Trump             Republican      74216154   loss   \n",
       "180  2020       Jo Jorgensen            Libertarian       1865724   loss   \n",
       "181  2020     Howard Hawkins                  Green        405035   loss   \n",
       "\n",
       "             %  \n",
       "0    57.210122  \n",
       "1    42.789878  \n",
       "2    56.203927  \n",
       "3    43.796073  \n",
       "4    54.574789  \n",
       "..         ...  \n",
       "177   1.073699  \n",
       "178  51.311515  \n",
       "179  46.858542  \n",
       "180   1.177979  \n",
       "181   0.255731  \n",
       "\n",
       "[182 rows x 6 columns]"
      ]
     },
     "execution_count": 2,
     "metadata": {},
     "output_type": "execute_result"
    }
   ],
   "source": [
    "elections = pd.read_csv(\"elections.csv\")\n",
    "elections"
   ]
  },
  {
   "cell_type": "markdown",
   "id": "4353f1db-4bce-4237-ab96-fff3fbdb558d",
   "metadata": {},
   "source": [
    "### 2.Index with loc,iloc,and []"
   ]
  },
  {
   "cell_type": "markdown",
   "id": "630215f7-69b9-4656-a2a1-e8cb9c2ab155",
   "metadata": {},
   "source": [
    "The Pandas library has a lot of “syntactic sugar”: Methods that are useful and lead to concise code, but not absolutely necessary for the library to function.  \n",
    "- Examples: .head and .tail"
   ]
  },
  {
   "cell_type": "code",
   "execution_count": 3,
   "id": "af57dc5f-f8f2-4bfb-a154-0e75331d7555",
   "metadata": {},
   "outputs": [
    {
     "data": {
      "text/html": [
       "<div>\n",
       "<style scoped>\n",
       "    .dataframe tbody tr th:only-of-type {\n",
       "        vertical-align: middle;\n",
       "    }\n",
       "\n",
       "    .dataframe tbody tr th {\n",
       "        vertical-align: top;\n",
       "    }\n",
       "\n",
       "    .dataframe thead th {\n",
       "        text-align: right;\n",
       "    }\n",
       "</style>\n",
       "<table border=\"1\" class=\"dataframe\">\n",
       "  <thead>\n",
       "    <tr style=\"text-align: right;\">\n",
       "      <th></th>\n",
       "      <th>Year</th>\n",
       "      <th>Candidate</th>\n",
       "      <th>Party</th>\n",
       "      <th>Popular vote</th>\n",
       "      <th>Result</th>\n",
       "      <th>%</th>\n",
       "    </tr>\n",
       "  </thead>\n",
       "  <tbody>\n",
       "    <tr>\n",
       "      <th>177</th>\n",
       "      <td>2016</td>\n",
       "      <td>Jill Stein</td>\n",
       "      <td>Green</td>\n",
       "      <td>1457226</td>\n",
       "      <td>loss</td>\n",
       "      <td>1.073699</td>\n",
       "    </tr>\n",
       "    <tr>\n",
       "      <th>178</th>\n",
       "      <td>2020</td>\n",
       "      <td>Joseph Biden</td>\n",
       "      <td>Democratic</td>\n",
       "      <td>81268924</td>\n",
       "      <td>win</td>\n",
       "      <td>51.311515</td>\n",
       "    </tr>\n",
       "    <tr>\n",
       "      <th>179</th>\n",
       "      <td>2020</td>\n",
       "      <td>Donald Trump</td>\n",
       "      <td>Republican</td>\n",
       "      <td>74216154</td>\n",
       "      <td>loss</td>\n",
       "      <td>46.858542</td>\n",
       "    </tr>\n",
       "    <tr>\n",
       "      <th>180</th>\n",
       "      <td>2020</td>\n",
       "      <td>Jo Jorgensen</td>\n",
       "      <td>Libertarian</td>\n",
       "      <td>1865724</td>\n",
       "      <td>loss</td>\n",
       "      <td>1.177979</td>\n",
       "    </tr>\n",
       "    <tr>\n",
       "      <th>181</th>\n",
       "      <td>2020</td>\n",
       "      <td>Howard Hawkins</td>\n",
       "      <td>Green</td>\n",
       "      <td>405035</td>\n",
       "      <td>loss</td>\n",
       "      <td>0.255731</td>\n",
       "    </tr>\n",
       "  </tbody>\n",
       "</table>\n",
       "</div>"
      ],
      "text/plain": [
       "     Year       Candidate        Party  Popular vote Result          %\n",
       "177  2016      Jill Stein        Green       1457226   loss   1.073699\n",
       "178  2020    Joseph Biden   Democratic      81268924    win  51.311515\n",
       "179  2020    Donald Trump   Republican      74216154   loss  46.858542\n",
       "180  2020    Jo Jorgensen  Libertarian       1865724   loss   1.177979\n",
       "181  2020  Howard Hawkins        Green        405035   loss   0.255731"
      ]
     },
     "execution_count": 3,
     "metadata": {},
     "output_type": "execute_result"
    }
   ],
   "source": [
    "elections.tail(5)"
   ]
  },
  {
   "cell_type": "markdown",
   "id": "850f335a-d842-4aa3-8772-a805b5981335",
   "metadata": {},
   "source": [
    "### (1) loc : select a group of rows and columns by label(s).\n",
    "\n",
    "Labels are fundamentally:\n",
    "- The labels are the bolded text to the top and left of our dataframe.  \n",
    "- Row labels shown: 177, 178, 179, 180, 181  \n",
    "- Column labels: Year, Candidate, Party, Popular vote, Result, %"
   ]
  },
  {
   "cell_type": "markdown",
   "id": "7126e122-fb63-45e7-82ed-8dac124f17cc",
   "metadata": {},
   "source": [
    "#### Arguments to loc can be:  \n",
    "- A list\n",
    "- A slice(syntax is inclusive of the right hand side of the slice)\n",
    "- A value"
   ]
  },
  {
   "cell_type": "markdown",
   "id": "9fdc99be-9927-40f6-baca-96ab0ee8e5be",
   "metadata": {},
   "source": [
    "_Argument as a list: The following command example selects the values of Year, Candidate, Result columns in 87th,125th,and 179th rows._"
   ]
  },
  {
   "cell_type": "code",
   "execution_count": 4,
   "id": "b2b98ea7-0965-45c7-a6ca-fe6e9230046c",
   "metadata": {},
   "outputs": [
    {
     "data": {
      "text/html": [
       "<div>\n",
       "<style scoped>\n",
       "    .dataframe tbody tr th:only-of-type {\n",
       "        vertical-align: middle;\n",
       "    }\n",
       "\n",
       "    .dataframe tbody tr th {\n",
       "        vertical-align: top;\n",
       "    }\n",
       "\n",
       "    .dataframe thead th {\n",
       "        text-align: right;\n",
       "    }\n",
       "</style>\n",
       "<table border=\"1\" class=\"dataframe\">\n",
       "  <thead>\n",
       "    <tr style=\"text-align: right;\">\n",
       "      <th></th>\n",
       "      <th>Year</th>\n",
       "      <th>Candidate</th>\n",
       "      <th>Result</th>\n",
       "    </tr>\n",
       "  </thead>\n",
       "  <tbody>\n",
       "    <tr>\n",
       "      <th>87</th>\n",
       "      <td>1932</td>\n",
       "      <td>Herbert Hoover</td>\n",
       "      <td>loss</td>\n",
       "    </tr>\n",
       "    <tr>\n",
       "      <th>125</th>\n",
       "      <td>1976</td>\n",
       "      <td>Roger MacBride</td>\n",
       "      <td>loss</td>\n",
       "    </tr>\n",
       "    <tr>\n",
       "      <th>179</th>\n",
       "      <td>2020</td>\n",
       "      <td>Donald Trump</td>\n",
       "      <td>loss</td>\n",
       "    </tr>\n",
       "  </tbody>\n",
       "</table>\n",
       "</div>"
      ],
      "text/plain": [
       "     Year       Candidate Result\n",
       "87   1932  Herbert Hoover   loss\n",
       "125  1976  Roger MacBride   loss\n",
       "179  2020    Donald Trump   loss"
      ]
     },
     "execution_count": 4,
     "metadata": {},
     "output_type": "execute_result"
    }
   ],
   "source": [
    "elections.loc[[87,125,179], [\"Year\",\"Candidate\",\"Result\"]]"
   ]
  },
  {
   "cell_type": "markdown",
   "id": "6e06b5c4-ff76-4063-bd9f-0e6a7c276d98",
   "metadata": {},
   "source": [
    "_Argument as a slice: The following command example selects the values of Party column to Result column in 87th,125th,and 179th rows._"
   ]
  },
  {
   "cell_type": "code",
   "execution_count": 5,
   "id": "bbd52a1d-9892-456c-b725-c862d25675ed",
   "metadata": {},
   "outputs": [
    {
     "data": {
      "text/html": [
       "<div>\n",
       "<style scoped>\n",
       "    .dataframe tbody tr th:only-of-type {\n",
       "        vertical-align: middle;\n",
       "    }\n",
       "\n",
       "    .dataframe tbody tr th {\n",
       "        vertical-align: top;\n",
       "    }\n",
       "\n",
       "    .dataframe thead th {\n",
       "        text-align: right;\n",
       "    }\n",
       "</style>\n",
       "<table border=\"1\" class=\"dataframe\">\n",
       "  <thead>\n",
       "    <tr style=\"text-align: right;\">\n",
       "      <th></th>\n",
       "      <th>Party</th>\n",
       "      <th>Popular vote</th>\n",
       "      <th>Result</th>\n",
       "    </tr>\n",
       "  </thead>\n",
       "  <tbody>\n",
       "    <tr>\n",
       "      <th>87</th>\n",
       "      <td>Republican</td>\n",
       "      <td>15761254</td>\n",
       "      <td>loss</td>\n",
       "    </tr>\n",
       "    <tr>\n",
       "      <th>125</th>\n",
       "      <td>Libertarian</td>\n",
       "      <td>172557</td>\n",
       "      <td>loss</td>\n",
       "    </tr>\n",
       "    <tr>\n",
       "      <th>179</th>\n",
       "      <td>Republican</td>\n",
       "      <td>74216154</td>\n",
       "      <td>loss</td>\n",
       "    </tr>\n",
       "  </tbody>\n",
       "</table>\n",
       "</div>"
      ],
      "text/plain": [
       "           Party  Popular vote Result\n",
       "87    Republican      15761254   loss\n",
       "125  Libertarian        172557   loss\n",
       "179   Republican      74216154   loss"
      ]
     },
     "execution_count": 5,
     "metadata": {},
     "output_type": "execute_result"
    }
   ],
   "source": [
    "elections.loc[[87,125,179],'Party':'Result']"
   ]
  },
  {
   "cell_type": "markdown",
   "id": "f3d5527b-fe6a-4aca-8209-f706fcb80158",
   "metadata": {},
   "source": [
    "_Argument as a value: The following command example selects the values of Candidate column in 87th,125th,and 179th rows._"
   ]
  },
  {
   "cell_type": "code",
   "execution_count": 6,
   "id": "dcb198c5-5210-4269-a9af-27db984ddec0",
   "metadata": {},
   "outputs": [
    {
     "data": {
      "text/html": [
       "<div>\n",
       "<style scoped>\n",
       "    .dataframe tbody tr th:only-of-type {\n",
       "        vertical-align: middle;\n",
       "    }\n",
       "\n",
       "    .dataframe tbody tr th {\n",
       "        vertical-align: top;\n",
       "    }\n",
       "\n",
       "    .dataframe thead th {\n",
       "        text-align: right;\n",
       "    }\n",
       "</style>\n",
       "<table border=\"1\" class=\"dataframe\">\n",
       "  <thead>\n",
       "    <tr style=\"text-align: right;\">\n",
       "      <th></th>\n",
       "      <th>Candidate</th>\n",
       "    </tr>\n",
       "  </thead>\n",
       "  <tbody>\n",
       "    <tr>\n",
       "      <th>87</th>\n",
       "      <td>Herbert Hoover</td>\n",
       "    </tr>\n",
       "    <tr>\n",
       "      <th>125</th>\n",
       "      <td>Roger MacBride</td>\n",
       "    </tr>\n",
       "    <tr>\n",
       "      <th>179</th>\n",
       "      <td>Donald Trump</td>\n",
       "    </tr>\n",
       "  </tbody>\n",
       "</table>\n",
       "</div>"
      ],
      "text/plain": [
       "          Candidate\n",
       "87   Herbert Hoover\n",
       "125  Roger MacBride\n",
       "179    Donald Trump"
      ]
     },
     "execution_count": 6,
     "metadata": {},
     "output_type": "execute_result"
    }
   ],
   "source": [
    "elections.loc[[87,125,179],['Candidate']]"
   ]
  },
  {
   "cell_type": "markdown",
   "id": "09677f74-786b-4b69-86c2-b0eba34835a5",
   "metadata": {},
   "source": [
    "_If you want all rows, but only some columns, you can use : for the left argument._"
   ]
  },
  {
   "cell_type": "code",
   "execution_count": 7,
   "id": "6b75bc96-dd13-45ac-b919-a8de44fadea1",
   "metadata": {},
   "outputs": [
    {
     "data": {
      "text/html": [
       "<div>\n",
       "<style scoped>\n",
       "    .dataframe tbody tr th:only-of-type {\n",
       "        vertical-align: middle;\n",
       "    }\n",
       "\n",
       "    .dataframe tbody tr th {\n",
       "        vertical-align: top;\n",
       "    }\n",
       "\n",
       "    .dataframe thead th {\n",
       "        text-align: right;\n",
       "    }\n",
       "</style>\n",
       "<table border=\"1\" class=\"dataframe\">\n",
       "  <thead>\n",
       "    <tr style=\"text-align: right;\">\n",
       "      <th></th>\n",
       "      <th>Year</th>\n",
       "      <th>Popular vote</th>\n",
       "    </tr>\n",
       "  </thead>\n",
       "  <tbody>\n",
       "    <tr>\n",
       "      <th>0</th>\n",
       "      <td>1824</td>\n",
       "      <td>151271</td>\n",
       "    </tr>\n",
       "    <tr>\n",
       "      <th>1</th>\n",
       "      <td>1824</td>\n",
       "      <td>113142</td>\n",
       "    </tr>\n",
       "    <tr>\n",
       "      <th>2</th>\n",
       "      <td>1828</td>\n",
       "      <td>642806</td>\n",
       "    </tr>\n",
       "    <tr>\n",
       "      <th>3</th>\n",
       "      <td>1828</td>\n",
       "      <td>500897</td>\n",
       "    </tr>\n",
       "    <tr>\n",
       "      <th>4</th>\n",
       "      <td>1832</td>\n",
       "      <td>702735</td>\n",
       "    </tr>\n",
       "    <tr>\n",
       "      <th>...</th>\n",
       "      <td>...</td>\n",
       "      <td>...</td>\n",
       "    </tr>\n",
       "    <tr>\n",
       "      <th>177</th>\n",
       "      <td>2016</td>\n",
       "      <td>1457226</td>\n",
       "    </tr>\n",
       "    <tr>\n",
       "      <th>178</th>\n",
       "      <td>2020</td>\n",
       "      <td>81268924</td>\n",
       "    </tr>\n",
       "    <tr>\n",
       "      <th>179</th>\n",
       "      <td>2020</td>\n",
       "      <td>74216154</td>\n",
       "    </tr>\n",
       "    <tr>\n",
       "      <th>180</th>\n",
       "      <td>2020</td>\n",
       "      <td>1865724</td>\n",
       "    </tr>\n",
       "    <tr>\n",
       "      <th>181</th>\n",
       "      <td>2020</td>\n",
       "      <td>405035</td>\n",
       "    </tr>\n",
       "  </tbody>\n",
       "</table>\n",
       "<p>182 rows × 2 columns</p>\n",
       "</div>"
      ],
      "text/plain": [
       "     Year  Popular vote\n",
       "0    1824        151271\n",
       "1    1824        113142\n",
       "2    1828        642806\n",
       "3    1828        500897\n",
       "4    1832        702735\n",
       "..    ...           ...\n",
       "177  2016       1457226\n",
       "178  2020      81268924\n",
       "179  2020      74216154\n",
       "180  2020       1865724\n",
       "181  2020        405035\n",
       "\n",
       "[182 rows x 2 columns]"
      ]
     },
     "execution_count": 7,
     "metadata": {},
     "output_type": "execute_result"
    }
   ],
   "source": [
    "elections.loc[:,['Year','Popular vote']]"
   ]
  },
  {
   "cell_type": "markdown",
   "id": "76eb4b41-187f-43eb-809c-5983a13c3de3",
   "metadata": {},
   "source": [
    "### (2) iloc : select a group of rows and columns numbers by index."
   ]
  },
  {
   "cell_type": "markdown",
   "id": "bf06bd32-81cf-4730-aee3-ff0049db1f98",
   "metadata": {},
   "source": [
    "#### Arguments to loc can be:  \n",
    "- A list\n",
    "- A slice(syntax is exclusive of the right hand side of the slice)\n",
    "- A value"
   ]
  },
  {
   "cell_type": "markdown",
   "id": "d773d268-a5b0-4b9a-9dd1-3a672616c4a6",
   "metadata": {},
   "source": [
    "_Argument as a list: The following command example selects the values of first and second columns in 17th,25th,and 79th rows._"
   ]
  },
  {
   "cell_type": "code",
   "execution_count": 8,
   "id": "c45dc338-0687-4890-b952-dda22ad30e22",
   "metadata": {},
   "outputs": [
    {
     "data": {
      "text/html": [
       "<div>\n",
       "<style scoped>\n",
       "    .dataframe tbody tr th:only-of-type {\n",
       "        vertical-align: middle;\n",
       "    }\n",
       "\n",
       "    .dataframe tbody tr th {\n",
       "        vertical-align: top;\n",
       "    }\n",
       "\n",
       "    .dataframe thead th {\n",
       "        text-align: right;\n",
       "    }\n",
       "</style>\n",
       "<table border=\"1\" class=\"dataframe\">\n",
       "  <thead>\n",
       "    <tr style=\"text-align: right;\">\n",
       "      <th></th>\n",
       "      <th>Year</th>\n",
       "      <th>Candidate</th>\n",
       "    </tr>\n",
       "  </thead>\n",
       "  <tbody>\n",
       "    <tr>\n",
       "      <th>17</th>\n",
       "      <td>1852</td>\n",
       "      <td>Franklin Pierce</td>\n",
       "    </tr>\n",
       "    <tr>\n",
       "      <th>25</th>\n",
       "      <td>1860</td>\n",
       "      <td>John C. Breckinridge</td>\n",
       "    </tr>\n",
       "    <tr>\n",
       "      <th>79</th>\n",
       "      <td>1920</td>\n",
       "      <td>Warren Harding</td>\n",
       "    </tr>\n",
       "  </tbody>\n",
       "</table>\n",
       "</div>"
      ],
      "text/plain": [
       "    Year             Candidate\n",
       "17  1852       Franklin Pierce\n",
       "25  1860  John C. Breckinridge\n",
       "79  1920        Warren Harding"
      ]
     },
     "execution_count": 8,
     "metadata": {},
     "output_type": "execute_result"
    }
   ],
   "source": [
    "elections.iloc[[17,25,79], [0, 1]]"
   ]
  },
  {
   "cell_type": "markdown",
   "id": "1ee189dc-f634-430f-9506-f9259b62d8ce",
   "metadata": {},
   "source": [
    "_Argument as a slice: The following command example selects the values of first and second columns(exclusively the third column) in 17th,25th,and 79th rows._"
   ]
  },
  {
   "cell_type": "code",
   "execution_count": 9,
   "id": "abb68660-6c62-4fe4-b813-f9d5637b9b49",
   "metadata": {},
   "outputs": [
    {
     "data": {
      "text/html": [
       "<div>\n",
       "<style scoped>\n",
       "    .dataframe tbody tr th:only-of-type {\n",
       "        vertical-align: middle;\n",
       "    }\n",
       "\n",
       "    .dataframe tbody tr th {\n",
       "        vertical-align: top;\n",
       "    }\n",
       "\n",
       "    .dataframe thead th {\n",
       "        text-align: right;\n",
       "    }\n",
       "</style>\n",
       "<table border=\"1\" class=\"dataframe\">\n",
       "  <thead>\n",
       "    <tr style=\"text-align: right;\">\n",
       "      <th></th>\n",
       "      <th>Year</th>\n",
       "      <th>Candidate</th>\n",
       "    </tr>\n",
       "  </thead>\n",
       "  <tbody>\n",
       "    <tr>\n",
       "      <th>17</th>\n",
       "      <td>1852</td>\n",
       "      <td>Franklin Pierce</td>\n",
       "    </tr>\n",
       "    <tr>\n",
       "      <th>25</th>\n",
       "      <td>1860</td>\n",
       "      <td>John C. Breckinridge</td>\n",
       "    </tr>\n",
       "    <tr>\n",
       "      <th>79</th>\n",
       "      <td>1920</td>\n",
       "      <td>Warren Harding</td>\n",
       "    </tr>\n",
       "  </tbody>\n",
       "</table>\n",
       "</div>"
      ],
      "text/plain": [
       "    Year             Candidate\n",
       "17  1852       Franklin Pierce\n",
       "25  1860  John C. Breckinridge\n",
       "79  1920        Warren Harding"
      ]
     },
     "execution_count": 9,
     "metadata": {},
     "output_type": "execute_result"
    }
   ],
   "source": [
    "elections.iloc[[17, 25, 79], 0:2]"
   ]
  },
  {
   "cell_type": "markdown",
   "id": "17a4a24d-ab55-4994-b5d6-572bb85b1d62",
   "metadata": {},
   "source": [
    "_Argument as a vlue: The following command example selects the values of first column in 17th,25th,and 79th rows._"
   ]
  },
  {
   "cell_type": "code",
   "execution_count": 10,
   "id": "4b286780-013f-42bd-ba6a-d8edd3b0eeda",
   "metadata": {},
   "outputs": [
    {
     "data": {
      "text/html": [
       "<div>\n",
       "<style scoped>\n",
       "    .dataframe tbody tr th:only-of-type {\n",
       "        vertical-align: middle;\n",
       "    }\n",
       "\n",
       "    .dataframe tbody tr th {\n",
       "        vertical-align: top;\n",
       "    }\n",
       "\n",
       "    .dataframe thead th {\n",
       "        text-align: right;\n",
       "    }\n",
       "</style>\n",
       "<table border=\"1\" class=\"dataframe\">\n",
       "  <thead>\n",
       "    <tr style=\"text-align: right;\">\n",
       "      <th></th>\n",
       "      <th>Year</th>\n",
       "    </tr>\n",
       "  </thead>\n",
       "  <tbody>\n",
       "    <tr>\n",
       "      <th>17</th>\n",
       "      <td>1852</td>\n",
       "    </tr>\n",
       "    <tr>\n",
       "      <th>25</th>\n",
       "      <td>1860</td>\n",
       "    </tr>\n",
       "    <tr>\n",
       "      <th>79</th>\n",
       "      <td>1920</td>\n",
       "    </tr>\n",
       "  </tbody>\n",
       "</table>\n",
       "</div>"
      ],
      "text/plain": [
       "    Year\n",
       "17  1852\n",
       "25  1860\n",
       "79  1920"
      ]
     },
     "execution_count": 10,
     "metadata": {},
     "output_type": "execute_result"
    }
   ],
   "source": [
    "elections.iloc[[17,25,79],[0]]"
   ]
  },
  {
   "cell_type": "markdown",
   "id": "194659b9-d5f4-40db-8226-929bc8c3301c",
   "metadata": {},
   "source": [
    "### (3) []: selection operator"
   ]
  },
  {
   "cell_type": "markdown",
   "id": "b992d694-b8e5-4d65-9f9c-80a26260b4ed",
   "metadata": {},
   "source": [
    "#### [] only takes one argument, which may be:  \n",
    "- A slice of row numbers.\n",
    "- A list of columns.\n",
    "- A single column label."
   ]
  },
  {
   "cell_type": "code",
   "execution_count": 11,
   "id": "841b66dd-cb38-4472-877d-a211ae13ab35",
   "metadata": {},
   "outputs": [
    {
     "data": {
      "text/html": [
       "<div>\n",
       "<style scoped>\n",
       "    .dataframe tbody tr th:only-of-type {\n",
       "        vertical-align: middle;\n",
       "    }\n",
       "\n",
       "    .dataframe tbody tr th {\n",
       "        vertical-align: top;\n",
       "    }\n",
       "\n",
       "    .dataframe thead th {\n",
       "        text-align: right;\n",
       "    }\n",
       "</style>\n",
       "<table border=\"1\" class=\"dataframe\">\n",
       "  <thead>\n",
       "    <tr style=\"text-align: right;\">\n",
       "      <th></th>\n",
       "      <th>Year</th>\n",
       "      <th>Candidate</th>\n",
       "      <th>Party</th>\n",
       "      <th>Popular vote</th>\n",
       "      <th>Result</th>\n",
       "      <th>%</th>\n",
       "    </tr>\n",
       "  </thead>\n",
       "  <tbody>\n",
       "    <tr>\n",
       "      <th>0</th>\n",
       "      <td>1824</td>\n",
       "      <td>Andrew Jackson</td>\n",
       "      <td>Democratic-Republican</td>\n",
       "      <td>151271</td>\n",
       "      <td>loss</td>\n",
       "      <td>57.210122</td>\n",
       "    </tr>\n",
       "    <tr>\n",
       "      <th>1</th>\n",
       "      <td>1824</td>\n",
       "      <td>John Quincy Adams</td>\n",
       "      <td>Democratic-Republican</td>\n",
       "      <td>113142</td>\n",
       "      <td>win</td>\n",
       "      <td>42.789878</td>\n",
       "    </tr>\n",
       "    <tr>\n",
       "      <th>2</th>\n",
       "      <td>1828</td>\n",
       "      <td>Andrew Jackson</td>\n",
       "      <td>Democratic</td>\n",
       "      <td>642806</td>\n",
       "      <td>win</td>\n",
       "      <td>56.203927</td>\n",
       "    </tr>\n",
       "  </tbody>\n",
       "</table>\n",
       "</div>"
      ],
      "text/plain": [
       "   Year          Candidate                  Party  Popular vote Result  \\\n",
       "0  1824     Andrew Jackson  Democratic-Republican        151271   loss   \n",
       "1  1824  John Quincy Adams  Democratic-Republican        113142    win   \n",
       "2  1828     Andrew Jackson             Democratic        642806    win   \n",
       "\n",
       "           %  \n",
       "0  57.210122  \n",
       "1  42.789878  \n",
       "2  56.203927  "
      ]
     },
     "execution_count": 11,
     "metadata": {},
     "output_type": "execute_result"
    }
   ],
   "source": [
    "# A slice of row numbers (exclusively the right side)\n",
    "elections[0:3]"
   ]
  },
  {
   "cell_type": "code",
   "execution_count": 12,
   "id": "a600dc49-fa91-4f85-be31-c7846b1461d7",
   "metadata": {},
   "outputs": [
    {
     "data": {
      "text/html": [
       "<div>\n",
       "<style scoped>\n",
       "    .dataframe tbody tr th:only-of-type {\n",
       "        vertical-align: middle;\n",
       "    }\n",
       "\n",
       "    .dataframe tbody tr th {\n",
       "        vertical-align: top;\n",
       "    }\n",
       "\n",
       "    .dataframe thead th {\n",
       "        text-align: right;\n",
       "    }\n",
       "</style>\n",
       "<table border=\"1\" class=\"dataframe\">\n",
       "  <thead>\n",
       "    <tr style=\"text-align: right;\">\n",
       "      <th></th>\n",
       "      <th>Party</th>\n",
       "      <th>Result</th>\n",
       "    </tr>\n",
       "  </thead>\n",
       "  <tbody>\n",
       "    <tr>\n",
       "      <th>0</th>\n",
       "      <td>Democratic-Republican</td>\n",
       "      <td>loss</td>\n",
       "    </tr>\n",
       "    <tr>\n",
       "      <th>1</th>\n",
       "      <td>Democratic-Republican</td>\n",
       "      <td>win</td>\n",
       "    </tr>\n",
       "    <tr>\n",
       "      <th>2</th>\n",
       "      <td>Democratic</td>\n",
       "      <td>win</td>\n",
       "    </tr>\n",
       "    <tr>\n",
       "      <th>3</th>\n",
       "      <td>National Republican</td>\n",
       "      <td>loss</td>\n",
       "    </tr>\n",
       "    <tr>\n",
       "      <th>4</th>\n",
       "      <td>Democratic</td>\n",
       "      <td>win</td>\n",
       "    </tr>\n",
       "  </tbody>\n",
       "</table>\n",
       "</div>"
      ],
      "text/plain": [
       "                   Party Result\n",
       "0  Democratic-Republican   loss\n",
       "1  Democratic-Republican    win\n",
       "2             Democratic    win\n",
       "3    National Republican   loss\n",
       "4             Democratic    win"
      ]
     },
     "execution_count": 12,
     "metadata": {},
     "output_type": "execute_result"
    }
   ],
   "source": [
    "# A list of columns\n",
    "elections[['Party','Result']].head()"
   ]
  },
  {
   "cell_type": "code",
   "execution_count": 13,
   "id": "1557eee1-e62e-4a3d-b5ee-cb87500d7f22",
   "metadata": {},
   "outputs": [
    {
     "data": {
      "text/plain": [
       "0       Andrew Jackson\n",
       "1    John Quincy Adams\n",
       "2       Andrew Jackson\n",
       "Name: Candidate, dtype: object"
      ]
     },
     "execution_count": 13,
     "metadata": {},
     "output_type": "execute_result"
    }
   ],
   "source": [
    "# A column label\n",
    "elections[\"Candidate\"].head(3)"
   ]
  },
  {
   "cell_type": "markdown",
   "id": "3d8c2dad-431b-43c8-bf5e-b48459e3e732",
   "metadata": {},
   "source": [
    "The above formatting is a bit ugly because the output has only one column. To fix this formatting, we will use the dataframe format instead of series and introduce more about fundamental data structures in pandas library later."
   ]
  },
  {
   "cell_type": "code",
   "execution_count": 14,
   "id": "cbef435d-1d3e-4fad-a5df-c5476832ae4d",
   "metadata": {},
   "outputs": [
    {
     "data": {
      "text/html": [
       "<div>\n",
       "<style scoped>\n",
       "    .dataframe tbody tr th:only-of-type {\n",
       "        vertical-align: middle;\n",
       "    }\n",
       "\n",
       "    .dataframe tbody tr th {\n",
       "        vertical-align: top;\n",
       "    }\n",
       "\n",
       "    .dataframe thead th {\n",
       "        text-align: right;\n",
       "    }\n",
       "</style>\n",
       "<table border=\"1\" class=\"dataframe\">\n",
       "  <thead>\n",
       "    <tr style=\"text-align: right;\">\n",
       "      <th></th>\n",
       "      <th>Candidate</th>\n",
       "    </tr>\n",
       "  </thead>\n",
       "  <tbody>\n",
       "    <tr>\n",
       "      <th>0</th>\n",
       "      <td>Andrew Jackson</td>\n",
       "    </tr>\n",
       "    <tr>\n",
       "      <th>1</th>\n",
       "      <td>John Quincy Adams</td>\n",
       "    </tr>\n",
       "    <tr>\n",
       "      <th>2</th>\n",
       "      <td>Andrew Jackson</td>\n",
       "    </tr>\n",
       "  </tbody>\n",
       "</table>\n",
       "</div>"
      ],
      "text/plain": [
       "           Candidate\n",
       "0     Andrew Jackson\n",
       "1  John Quincy Adams\n",
       "2     Andrew Jackson"
      ]
     },
     "execution_count": 14,
     "metadata": {},
     "output_type": "execute_result"
    }
   ],
   "source": [
    "#Select even a single column by a list\n",
    "elections[[\"Candidate\"]].head(3)"
   ]
  },
  {
   "cell_type": "markdown",
   "id": "dbe2a2a8-7730-4ba2-9023-33fd839184f8",
   "metadata": {},
   "source": [
    "In summary, [] is much more common in real world compared to loc and iloc especially when selecting columns."
   ]
  },
  {
   "cell_type": "markdown",
   "id": "37748373-3a5d-4590-807c-bf60ca1bd9e4",
   "metadata": {},
   "source": [
    "### 3.DataFrames,Series, and Indicies"
   ]
  },
  {
   "cell_type": "code",
   "execution_count": 15,
   "id": "459ddd61-6dab-4041-a07b-e0a7525b1030",
   "metadata": {},
   "outputs": [
    {
     "data": {
      "text/plain": [
       "pandas.core.frame.DataFrame"
      ]
     },
     "execution_count": 15,
     "metadata": {},
     "output_type": "execute_result"
    }
   ],
   "source": [
    "#output the type of elections\n",
    "type(elections)"
   ]
  },
  {
   "cell_type": "code",
   "execution_count": 16,
   "id": "7e6985cc-d982-4b52-9caf-5bffe3d910ba",
   "metadata": {},
   "outputs": [
    {
     "data": {
      "text/plain": [
       "pandas.core.series.Series"
      ]
     },
     "execution_count": 16,
     "metadata": {},
     "output_type": "execute_result"
    }
   ],
   "source": [
    "#output the type of elections\n",
    "type(elections['Year'])"
   ]
  },
  {
   "cell_type": "markdown",
   "id": "47752237-db9e-46ac-b3b7-dcb116e78f97",
   "metadata": {},
   "source": [
    "#### There are three fundamental data structures in pandas:  \n",
    "- Data Frame: 2D data tabular data.\n",
    "- Series: 1D data, which is usually regarded as a column of data.\n",
    "- Index: A sequence of row labels."
   ]
  },
  {
   "cell_type": "markdown",
   "id": "6dddce16-c016-46bc-a371-b9c3edc202fc",
   "metadata": {},
   "source": [
    "We can think of a Data Frame as a collection of Series that all share the same Index.\n",
    "e.g.:Candidate, Party, %, Year, and Result Series all share an Index from  0 to 5."
   ]
  },
  {
   "cell_type": "markdown",
   "id": "37dfe222-a151-4c03-b440-b0ad22c0a8cf",
   "metadata": {},
   "source": [
    "An Index can also be non-numetric and have a name, e.g.\"Candidate\""
   ]
  },
  {
   "cell_type": "code",
   "execution_count": 17,
   "id": "c1a1e874-7428-4caa-95d6-27983d38404f",
   "metadata": {},
   "outputs": [
    {
     "data": {
      "text/html": [
       "<div>\n",
       "<style scoped>\n",
       "    .dataframe tbody tr th:only-of-type {\n",
       "        vertical-align: middle;\n",
       "    }\n",
       "\n",
       "    .dataframe tbody tr th {\n",
       "        vertical-align: top;\n",
       "    }\n",
       "\n",
       "    .dataframe thead th {\n",
       "        text-align: right;\n",
       "    }\n",
       "</style>\n",
       "<table border=\"1\" class=\"dataframe\">\n",
       "  <thead>\n",
       "    <tr style=\"text-align: right;\">\n",
       "      <th></th>\n",
       "      <th>Year</th>\n",
       "      <th>Party</th>\n",
       "      <th>Popular vote</th>\n",
       "      <th>Result</th>\n",
       "      <th>%</th>\n",
       "    </tr>\n",
       "    <tr>\n",
       "      <th>Candidate</th>\n",
       "      <th></th>\n",
       "      <th></th>\n",
       "      <th></th>\n",
       "      <th></th>\n",
       "      <th></th>\n",
       "    </tr>\n",
       "  </thead>\n",
       "  <tbody>\n",
       "    <tr>\n",
       "      <th>Andrew Jackson</th>\n",
       "      <td>1824</td>\n",
       "      <td>Democratic-Republican</td>\n",
       "      <td>151271</td>\n",
       "      <td>loss</td>\n",
       "      <td>57.210122</td>\n",
       "    </tr>\n",
       "    <tr>\n",
       "      <th>John Quincy Adams</th>\n",
       "      <td>1824</td>\n",
       "      <td>Democratic-Republican</td>\n",
       "      <td>113142</td>\n",
       "      <td>win</td>\n",
       "      <td>42.789878</td>\n",
       "    </tr>\n",
       "    <tr>\n",
       "      <th>Andrew Jackson</th>\n",
       "      <td>1828</td>\n",
       "      <td>Democratic</td>\n",
       "      <td>642806</td>\n",
       "      <td>win</td>\n",
       "      <td>56.203927</td>\n",
       "    </tr>\n",
       "    <tr>\n",
       "      <th>John Quincy Adams</th>\n",
       "      <td>1828</td>\n",
       "      <td>National Republican</td>\n",
       "      <td>500897</td>\n",
       "      <td>loss</td>\n",
       "      <td>43.796073</td>\n",
       "    </tr>\n",
       "    <tr>\n",
       "      <th>Andrew Jackson</th>\n",
       "      <td>1832</td>\n",
       "      <td>Democratic</td>\n",
       "      <td>702735</td>\n",
       "      <td>win</td>\n",
       "      <td>54.574789</td>\n",
       "    </tr>\n",
       "  </tbody>\n",
       "</table>\n",
       "</div>"
      ],
      "text/plain": [
       "                   Year                  Party  Popular vote Result          %\n",
       "Candidate                                                                     \n",
       "Andrew Jackson     1824  Democratic-Republican        151271   loss  57.210122\n",
       "John Quincy Adams  1824  Democratic-Republican        113142    win  42.789878\n",
       "Andrew Jackson     1828             Democratic        642806    win  56.203927\n",
       "John Quincy Adams  1828    National Republican        500897   loss  43.796073\n",
       "Andrew Jackson     1832             Democratic        702735    win  54.574789"
      ]
     },
     "execution_count": 17,
     "metadata": {},
     "output_type": "execute_result"
    }
   ],
   "source": [
    "elections_by_candidate = elections.set_index('Candidate')\n",
    "elections_by_candidate.head()"
   ]
  },
  {
   "cell_type": "markdown",
   "id": "6b30ac2b-c5fc-43cf-aaf9-ff0eb0d90cf1",
   "metadata": {},
   "source": [
    "The row labels that constitute an index do not have to be unique."
   ]
  },
  {
   "cell_type": "code",
   "execution_count": 18,
   "id": "5d1daf73-7675-484a-972b-deb5df7a3087",
   "metadata": {},
   "outputs": [
    {
     "data": {
      "text/plain": [
       "Index(['Andrew Jackson', 'John Quincy Adams', 'Andrew Jackson',\n",
       "       'John Quincy Adams', 'Andrew Jackson', 'Henry Clay', 'William Wirt',\n",
       "       'Hugh Lawson White', 'Martin Van Buren', 'William Henry Harrison',\n",
       "       ...\n",
       "       'Darrell Castle', 'Donald Trump', 'Evan McMullin', 'Gary Johnson',\n",
       "       'Hillary Clinton', 'Jill Stein', 'Joseph Biden', 'Donald Trump',\n",
       "       'Jo Jorgensen', 'Howard Hawkins'],\n",
       "      dtype='object', name='Candidate', length=182)"
      ]
     },
     "execution_count": 18,
     "metadata": {},
     "output_type": "execute_result"
    }
   ],
   "source": [
    "elections_by_candidate.index"
   ]
  },
  {
   "cell_type": "code",
   "execution_count": 19,
   "id": "eb53630d-f552-403a-8d12-8e7ee88e072b",
   "metadata": {},
   "outputs": [
    {
     "data": {
      "text/html": [
       "<div>\n",
       "<style scoped>\n",
       "    .dataframe tbody tr th:only-of-type {\n",
       "        vertical-align: middle;\n",
       "    }\n",
       "\n",
       "    .dataframe tbody tr th {\n",
       "        vertical-align: top;\n",
       "    }\n",
       "\n",
       "    .dataframe thead th {\n",
       "        text-align: right;\n",
       "    }\n",
       "</style>\n",
       "<table border=\"1\" class=\"dataframe\">\n",
       "  <thead>\n",
       "    <tr style=\"text-align: right;\">\n",
       "      <th></th>\n",
       "      <th>Year</th>\n",
       "      <th>Party</th>\n",
       "      <th>Popular vote</th>\n",
       "      <th>Result</th>\n",
       "      <th>%</th>\n",
       "    </tr>\n",
       "    <tr>\n",
       "      <th>Candidate</th>\n",
       "      <th></th>\n",
       "      <th></th>\n",
       "      <th></th>\n",
       "      <th></th>\n",
       "      <th></th>\n",
       "    </tr>\n",
       "  </thead>\n",
       "  <tbody>\n",
       "    <tr>\n",
       "      <th>Donald Trump</th>\n",
       "      <td>2016</td>\n",
       "      <td>Republican</td>\n",
       "      <td>62984828</td>\n",
       "      <td>win</td>\n",
       "      <td>46.407862</td>\n",
       "    </tr>\n",
       "    <tr>\n",
       "      <th>Donald Trump</th>\n",
       "      <td>2020</td>\n",
       "      <td>Republican</td>\n",
       "      <td>74216154</td>\n",
       "      <td>loss</td>\n",
       "      <td>46.858542</td>\n",
       "    </tr>\n",
       "  </tbody>\n",
       "</table>\n",
       "</div>"
      ],
      "text/plain": [
       "              Year       Party  Popular vote Result          %\n",
       "Candidate                                                     \n",
       "Donald Trump  2016  Republican      62984828    win  46.407862\n",
       "Donald Trump  2020  Republican      74216154   loss  46.858542"
      ]
     },
     "execution_count": 19,
     "metadata": {},
     "output_type": "execute_result"
    }
   ],
   "source": [
    "elections_by_candidate.loc[['Donald Trump'],]"
   ]
  },
  {
   "cell_type": "markdown",
   "id": "cca55300-4bd0-4006-aac5-58cc19100770",
   "metadata": {},
   "source": [
    "#### Getting a DataFrame Rather Than a Series\n",
    "Suppose we want our single column back as a DataFrame. Two approaches:  \n",
    "- Use Series.to_frame().  \n",
    "- Provide a list containing the single column of interest. It is like double braces but this approach actually provides a list to the [] operator."
   ]
  },
  {
   "cell_type": "code",
   "execution_count": 20,
   "id": "3b879883-1117-48e9-9e7a-998ada457af1",
   "metadata": {},
   "outputs": [
    {
     "data": {
      "text/html": [
       "<div>\n",
       "<style scoped>\n",
       "    .dataframe tbody tr th:only-of-type {\n",
       "        vertical-align: middle;\n",
       "    }\n",
       "\n",
       "    .dataframe tbody tr th {\n",
       "        vertical-align: top;\n",
       "    }\n",
       "\n",
       "    .dataframe thead th {\n",
       "        text-align: right;\n",
       "    }\n",
       "</style>\n",
       "<table border=\"1\" class=\"dataframe\">\n",
       "  <thead>\n",
       "    <tr style=\"text-align: right;\">\n",
       "      <th></th>\n",
       "      <th>Candidate</th>\n",
       "    </tr>\n",
       "  </thead>\n",
       "  <tbody>\n",
       "    <tr>\n",
       "      <th>177</th>\n",
       "      <td>Jill Stein</td>\n",
       "    </tr>\n",
       "    <tr>\n",
       "      <th>178</th>\n",
       "      <td>Joseph Biden</td>\n",
       "    </tr>\n",
       "    <tr>\n",
       "      <th>179</th>\n",
       "      <td>Donald Trump</td>\n",
       "    </tr>\n",
       "    <tr>\n",
       "      <th>180</th>\n",
       "      <td>Jo Jorgensen</td>\n",
       "    </tr>\n",
       "    <tr>\n",
       "      <th>181</th>\n",
       "      <td>Howard Hawkins</td>\n",
       "    </tr>\n",
       "  </tbody>\n",
       "</table>\n",
       "</div>"
      ],
      "text/plain": [
       "          Candidate\n",
       "177      Jill Stein\n",
       "178    Joseph Biden\n",
       "179    Donald Trump\n",
       "180    Jo Jorgensen\n",
       "181  Howard Hawkins"
      ]
     },
     "execution_count": 20,
     "metadata": {},
     "output_type": "execute_result"
    }
   ],
   "source": [
    "#Approach 1\n",
    "elections['Candidate'].tail().to_frame()"
   ]
  },
  {
   "cell_type": "code",
   "execution_count": 21,
   "id": "f58ad461-d48c-4017-a1f5-698089dc6ec1",
   "metadata": {},
   "outputs": [
    {
     "data": {
      "text/html": [
       "<div>\n",
       "<style scoped>\n",
       "    .dataframe tbody tr th:only-of-type {\n",
       "        vertical-align: middle;\n",
       "    }\n",
       "\n",
       "    .dataframe tbody tr th {\n",
       "        vertical-align: top;\n",
       "    }\n",
       "\n",
       "    .dataframe thead th {\n",
       "        text-align: right;\n",
       "    }\n",
       "</style>\n",
       "<table border=\"1\" class=\"dataframe\">\n",
       "  <thead>\n",
       "    <tr style=\"text-align: right;\">\n",
       "      <th></th>\n",
       "      <th>Candidate</th>\n",
       "    </tr>\n",
       "  </thead>\n",
       "  <tbody>\n",
       "    <tr>\n",
       "      <th>177</th>\n",
       "      <td>Jill Stein</td>\n",
       "    </tr>\n",
       "    <tr>\n",
       "      <th>178</th>\n",
       "      <td>Joseph Biden</td>\n",
       "    </tr>\n",
       "    <tr>\n",
       "      <th>179</th>\n",
       "      <td>Donald Trump</td>\n",
       "    </tr>\n",
       "    <tr>\n",
       "      <th>180</th>\n",
       "      <td>Jo Jorgensen</td>\n",
       "    </tr>\n",
       "    <tr>\n",
       "      <th>181</th>\n",
       "      <td>Howard Hawkins</td>\n",
       "    </tr>\n",
       "  </tbody>\n",
       "</table>\n",
       "</div>"
      ],
      "text/plain": [
       "          Candidate\n",
       "177      Jill Stein\n",
       "178    Joseph Biden\n",
       "179    Donald Trump\n",
       "180    Jo Jorgensen\n",
       "181  Howard Hawkins"
      ]
     },
     "execution_count": 21,
     "metadata": {},
     "output_type": "execute_result"
    }
   ],
   "source": [
    "#Approach 2\n",
    "elections[['Candidate']].tail()"
   ]
  },
  {
   "cell_type": "markdown",
   "id": "d5208daa-978f-424c-8018-c68546086d7e",
   "metadata": {},
   "source": [
    "#### Retrieve Row and Column Labels"
   ]
  },
  {
   "cell_type": "code",
   "execution_count": 22,
   "id": "91118135-8486-442c-a798-a72933fda37a",
   "metadata": {},
   "outputs": [
    {
     "data": {
      "text/plain": [
       "RangeIndex(start=0, stop=182, step=1)"
      ]
     },
     "execution_count": 22,
     "metadata": {},
     "output_type": "execute_result"
    }
   ],
   "source": [
    "#For row labels, use DataFrame.index\n",
    "elections.index"
   ]
  },
  {
   "cell_type": "code",
   "execution_count": 23,
   "id": "d48b020d-15af-406f-99e8-fc3e2f25dbe1",
   "metadata": {},
   "outputs": [
    {
     "data": {
      "text/plain": [
       "Index(['Year', 'Candidate', 'Party', 'Popular vote', 'Result', '%'], dtype='object')"
      ]
     },
     "execution_count": 23,
     "metadata": {},
     "output_type": "execute_result"
    }
   ],
   "source": [
    "#For column labels. use DataFrame.columns\n",
    "elections.columns"
   ]
  },
  {
   "cell_type": "markdown",
   "id": "ca143b21-1f35-4730-981f-1d809826acd8",
   "metadata": {},
   "source": [
    "### 4. Conditioanl Selection"
   ]
  },
  {
   "cell_type": "markdown",
   "id": "2909fb27-b8f5-4198-a400-f309c28df85c",
   "metadata": {},
   "source": [
    "Using boolean arrays is to select subset dataframes which satisfies the conditions."
   ]
  },
  {
   "cell_type": "code",
   "execution_count": 24,
   "id": "9f1fb4cd-cfe0-4488-8314-2ac1150b0aef",
   "metadata": {},
   "outputs": [
    {
     "data": {
      "text/plain": [
       "0      False\n",
       "1      False\n",
       "2       True\n",
       "3      False\n",
       "4       True\n",
       "       ...  \n",
       "177    False\n",
       "178     True\n",
       "179    False\n",
       "180    False\n",
       "181    False\n",
       "Name: Party, Length: 182, dtype: bool"
      ]
     },
     "execution_count": 24,
     "metadata": {},
     "output_type": "execute_result"
    }
   ],
   "source": [
    "#Output whether each row of Party is Democratic or not\n",
    "elections[\"Party\"] == 'Democratic'"
   ]
  },
  {
   "cell_type": "code",
   "execution_count": 25,
   "id": "fa4a2619-2172-4a5d-a7b9-0a5a001a5164",
   "metadata": {},
   "outputs": [
    {
     "data": {
      "text/html": [
       "<div>\n",
       "<style scoped>\n",
       "    .dataframe tbody tr th:only-of-type {\n",
       "        vertical-align: middle;\n",
       "    }\n",
       "\n",
       "    .dataframe tbody tr th {\n",
       "        vertical-align: top;\n",
       "    }\n",
       "\n",
       "    .dataframe thead th {\n",
       "        text-align: right;\n",
       "    }\n",
       "</style>\n",
       "<table border=\"1\" class=\"dataframe\">\n",
       "  <thead>\n",
       "    <tr style=\"text-align: right;\">\n",
       "      <th></th>\n",
       "      <th>Year</th>\n",
       "      <th>Candidate</th>\n",
       "      <th>Party</th>\n",
       "      <th>Popular vote</th>\n",
       "      <th>Result</th>\n",
       "      <th>%</th>\n",
       "    </tr>\n",
       "  </thead>\n",
       "  <tbody>\n",
       "    <tr>\n",
       "      <th>2</th>\n",
       "      <td>1828</td>\n",
       "      <td>Andrew Jackson</td>\n",
       "      <td>Democratic</td>\n",
       "      <td>642806</td>\n",
       "      <td>win</td>\n",
       "      <td>56.203927</td>\n",
       "    </tr>\n",
       "    <tr>\n",
       "      <th>4</th>\n",
       "      <td>1832</td>\n",
       "      <td>Andrew Jackson</td>\n",
       "      <td>Democratic</td>\n",
       "      <td>702735</td>\n",
       "      <td>win</td>\n",
       "      <td>54.574789</td>\n",
       "    </tr>\n",
       "    <tr>\n",
       "      <th>8</th>\n",
       "      <td>1836</td>\n",
       "      <td>Martin Van Buren</td>\n",
       "      <td>Democratic</td>\n",
       "      <td>763291</td>\n",
       "      <td>win</td>\n",
       "      <td>52.272472</td>\n",
       "    </tr>\n",
       "    <tr>\n",
       "      <th>10</th>\n",
       "      <td>1840</td>\n",
       "      <td>Martin Van Buren</td>\n",
       "      <td>Democratic</td>\n",
       "      <td>1128854</td>\n",
       "      <td>loss</td>\n",
       "      <td>46.948787</td>\n",
       "    </tr>\n",
       "    <tr>\n",
       "      <th>13</th>\n",
       "      <td>1844</td>\n",
       "      <td>James Polk</td>\n",
       "      <td>Democratic</td>\n",
       "      <td>1339570</td>\n",
       "      <td>win</td>\n",
       "      <td>50.749477</td>\n",
       "    </tr>\n",
       "  </tbody>\n",
       "</table>\n",
       "</div>"
      ],
      "text/plain": [
       "    Year         Candidate       Party  Popular vote Result          %\n",
       "2   1828    Andrew Jackson  Democratic        642806    win  56.203927\n",
       "4   1832    Andrew Jackson  Democratic        702735    win  54.574789\n",
       "8   1836  Martin Van Buren  Democratic        763291    win  52.272472\n",
       "10  1840  Martin Van Buren  Democratic       1128854   loss  46.948787\n",
       "13  1844        James Polk  Democratic       1339570    win  50.749477"
      ]
     },
     "execution_count": 25,
     "metadata": {},
     "output_type": "execute_result"
    }
   ],
   "source": [
    "#Select first five rows whose party is Democratic (when boolean array is true)\n",
    "elections[elections[\"Party\"] == 'Democratic'].head()"
   ]
  },
  {
   "cell_type": "markdown",
   "id": "72ee451e-fa49-430c-a5f1-09c53b1a7930",
   "metadata": {},
   "source": [
    "Boolean Series can be combined using various operators, allowing filtering of results by multiple criteria."
   ]
  },
  {
   "cell_type": "code",
   "execution_count": 26,
   "id": "3cf233b2-e3a8-466e-b520-11a570b4aa27",
   "metadata": {},
   "outputs": [
    {
     "data": {
      "text/html": [
       "<div>\n",
       "<style scoped>\n",
       "    .dataframe tbody tr th:only-of-type {\n",
       "        vertical-align: middle;\n",
       "    }\n",
       "\n",
       "    .dataframe tbody tr th {\n",
       "        vertical-align: top;\n",
       "    }\n",
       "\n",
       "    .dataframe thead th {\n",
       "        text-align: right;\n",
       "    }\n",
       "</style>\n",
       "<table border=\"1\" class=\"dataframe\">\n",
       "  <thead>\n",
       "    <tr style=\"text-align: right;\">\n",
       "      <th></th>\n",
       "      <th>Year</th>\n",
       "      <th>Candidate</th>\n",
       "      <th>Party</th>\n",
       "      <th>Popular vote</th>\n",
       "      <th>Result</th>\n",
       "      <th>%</th>\n",
       "    </tr>\n",
       "  </thead>\n",
       "  <tbody>\n",
       "    <tr>\n",
       "      <th>1</th>\n",
       "      <td>1824</td>\n",
       "      <td>John Quincy Adams</td>\n",
       "      <td>Democratic-Republican</td>\n",
       "      <td>113142</td>\n",
       "      <td>win</td>\n",
       "      <td>42.789878</td>\n",
       "    </tr>\n",
       "    <tr>\n",
       "      <th>23</th>\n",
       "      <td>1860</td>\n",
       "      <td>Abraham Lincoln</td>\n",
       "      <td>Republican</td>\n",
       "      <td>1855993</td>\n",
       "      <td>win</td>\n",
       "      <td>39.699408</td>\n",
       "    </tr>\n",
       "    <tr>\n",
       "      <th>70</th>\n",
       "      <td>1912</td>\n",
       "      <td>Woodrow Wilson</td>\n",
       "      <td>Democratic</td>\n",
       "      <td>6296284</td>\n",
       "      <td>win</td>\n",
       "      <td>41.933422</td>\n",
       "    </tr>\n",
       "    <tr>\n",
       "      <th>117</th>\n",
       "      <td>1968</td>\n",
       "      <td>Richard Nixon</td>\n",
       "      <td>Republican</td>\n",
       "      <td>31783783</td>\n",
       "      <td>win</td>\n",
       "      <td>43.565246</td>\n",
       "    </tr>\n",
       "    <tr>\n",
       "      <th>140</th>\n",
       "      <td>1992</td>\n",
       "      <td>Bill Clinton</td>\n",
       "      <td>Democratic</td>\n",
       "      <td>44909806</td>\n",
       "      <td>win</td>\n",
       "      <td>43.118485</td>\n",
       "    </tr>\n",
       "  </tbody>\n",
       "</table>\n",
       "</div>"
      ],
      "text/plain": [
       "     Year          Candidate                  Party  Popular vote Result  \\\n",
       "1    1824  John Quincy Adams  Democratic-Republican        113142    win   \n",
       "23   1860    Abraham Lincoln             Republican       1855993    win   \n",
       "70   1912     Woodrow Wilson             Democratic       6296284    win   \n",
       "117  1968      Richard Nixon             Republican      31783783    win   \n",
       "140  1992       Bill Clinton             Democratic      44909806    win   \n",
       "\n",
       "             %  \n",
       "1    42.789878  \n",
       "23   39.699408  \n",
       "70   41.933422  \n",
       "117  43.565246  \n",
       "140  43.118485  "
      ]
     },
     "execution_count": 26,
     "metadata": {},
     "output_type": "execute_result"
    }
   ],
   "source": [
    "elections[(elections[\"Result\"] == 'win') & (elections['%']<45)]"
   ]
  },
  {
   "cell_type": "markdown",
   "id": "89c59fac-8851-4b21-b8ba-0716e2e6a258",
   "metadata": {},
   "source": [
    "#### Alternatives to Boolean Array Selection"
   ]
  },
  {
   "cell_type": "markdown",
   "id": "3ab4d19a-37f6-4ea1-97be-33bad51d9a95",
   "metadata": {},
   "source": [
    "Pandas also provides many alternatives, for example:  \n",
    "- .isin\n",
    "- .str.startwith\n",
    "- .query"
   ]
  },
  {
   "cell_type": "code",
   "execution_count": 27,
   "id": "5a521a1d-31e0-4f07-bfe6-b08dfb9c762c",
   "metadata": {},
   "outputs": [
    {
     "data": {
      "text/html": [
       "<div>\n",
       "<style scoped>\n",
       "    .dataframe tbody tr th:only-of-type {\n",
       "        vertical-align: middle;\n",
       "    }\n",
       "\n",
       "    .dataframe tbody tr th {\n",
       "        vertical-align: top;\n",
       "    }\n",
       "\n",
       "    .dataframe thead th {\n",
       "        text-align: right;\n",
       "    }\n",
       "</style>\n",
       "<table border=\"1\" class=\"dataframe\">\n",
       "  <thead>\n",
       "    <tr style=\"text-align: right;\">\n",
       "      <th></th>\n",
       "      <th>Year</th>\n",
       "      <th>Candidate</th>\n",
       "      <th>Party</th>\n",
       "      <th>Popular vote</th>\n",
       "      <th>Result</th>\n",
       "      <th>%</th>\n",
       "    </tr>\n",
       "  </thead>\n",
       "  <tbody>\n",
       "    <tr>\n",
       "      <th>6</th>\n",
       "      <td>1832</td>\n",
       "      <td>William Wirt</td>\n",
       "      <td>Anti-Masonic</td>\n",
       "      <td>100715</td>\n",
       "      <td>loss</td>\n",
       "      <td>7.821583</td>\n",
       "    </tr>\n",
       "    <tr>\n",
       "      <th>22</th>\n",
       "      <td>1856</td>\n",
       "      <td>Millard Fillmore</td>\n",
       "      <td>American</td>\n",
       "      <td>873053</td>\n",
       "      <td>loss</td>\n",
       "      <td>21.554001</td>\n",
       "    </tr>\n",
       "    <tr>\n",
       "      <th>38</th>\n",
       "      <td>1884</td>\n",
       "      <td>Benjamin Butler</td>\n",
       "      <td>Anti-Monopoly</td>\n",
       "      <td>134294</td>\n",
       "      <td>loss</td>\n",
       "      <td>1.335838</td>\n",
       "    </tr>\n",
       "    <tr>\n",
       "      <th>115</th>\n",
       "      <td>1968</td>\n",
       "      <td>George Wallace</td>\n",
       "      <td>American Independent</td>\n",
       "      <td>9901118</td>\n",
       "      <td>loss</td>\n",
       "      <td>13.571218</td>\n",
       "    </tr>\n",
       "    <tr>\n",
       "      <th>119</th>\n",
       "      <td>1972</td>\n",
       "      <td>John G. Schmitz</td>\n",
       "      <td>American Independent</td>\n",
       "      <td>1100868</td>\n",
       "      <td>loss</td>\n",
       "      <td>1.421524</td>\n",
       "    </tr>\n",
       "    <tr>\n",
       "      <th>124</th>\n",
       "      <td>1976</td>\n",
       "      <td>Lester Maddox</td>\n",
       "      <td>American Independent</td>\n",
       "      <td>170274</td>\n",
       "      <td>loss</td>\n",
       "      <td>0.209640</td>\n",
       "    </tr>\n",
       "    <tr>\n",
       "      <th>126</th>\n",
       "      <td>1976</td>\n",
       "      <td>Thomas J. Anderson</td>\n",
       "      <td>American</td>\n",
       "      <td>158271</td>\n",
       "      <td>loss</td>\n",
       "      <td>0.194862</td>\n",
       "    </tr>\n",
       "  </tbody>\n",
       "</table>\n",
       "</div>"
      ],
      "text/plain": [
       "     Year           Candidate                 Party  Popular vote Result  \\\n",
       "6    1832        William Wirt          Anti-Masonic        100715   loss   \n",
       "22   1856    Millard Fillmore              American        873053   loss   \n",
       "38   1884     Benjamin Butler         Anti-Monopoly        134294   loss   \n",
       "115  1968      George Wallace  American Independent       9901118   loss   \n",
       "119  1972     John G. Schmitz  American Independent       1100868   loss   \n",
       "124  1976       Lester Maddox  American Independent        170274   loss   \n",
       "126  1976  Thomas J. Anderson              American        158271   loss   \n",
       "\n",
       "             %  \n",
       "6     7.821583  \n",
       "22   21.554001  \n",
       "38    1.335838  \n",
       "115  13.571218  \n",
       "119   1.421524  \n",
       "124   0.209640  \n",
       "126   0.194862  "
      ]
     },
     "execution_count": 27,
     "metadata": {},
     "output_type": "execute_result"
    }
   ],
   "source": [
    "#DataFrame.isin(values) check whether each element in the DataFrame is contained in the values\n",
    "a_parties = [\"Anti-Masonic\", \"American\", \"Anti-Monopoly\", \"American Independent\"]\n",
    "elections[elections[\"Party\"].isin(a_parties)]"
   ]
  },
  {
   "cell_type": "code",
   "execution_count": 28,
   "id": "953616ea-104c-4686-83a0-4ed04f97db58",
   "metadata": {},
   "outputs": [
    {
     "data": {
      "text/html": [
       "<div>\n",
       "<style scoped>\n",
       "    .dataframe tbody tr th:only-of-type {\n",
       "        vertical-align: middle;\n",
       "    }\n",
       "\n",
       "    .dataframe tbody tr th {\n",
       "        vertical-align: top;\n",
       "    }\n",
       "\n",
       "    .dataframe thead th {\n",
       "        text-align: right;\n",
       "    }\n",
       "</style>\n",
       "<table border=\"1\" class=\"dataframe\">\n",
       "  <thead>\n",
       "    <tr style=\"text-align: right;\">\n",
       "      <th></th>\n",
       "      <th>Year</th>\n",
       "      <th>Candidate</th>\n",
       "      <th>Party</th>\n",
       "      <th>Popular vote</th>\n",
       "      <th>Result</th>\n",
       "      <th>%</th>\n",
       "    </tr>\n",
       "  </thead>\n",
       "  <tbody>\n",
       "    <tr>\n",
       "      <th>25</th>\n",
       "      <td>1860</td>\n",
       "      <td>John C. Breckinridge</td>\n",
       "      <td>Southern Democratic</td>\n",
       "      <td>848019</td>\n",
       "      <td>loss</td>\n",
       "      <td>18.138998</td>\n",
       "    </tr>\n",
       "    <tr>\n",
       "      <th>58</th>\n",
       "      <td>1904</td>\n",
       "      <td>Eugene V. Debs</td>\n",
       "      <td>Socialist</td>\n",
       "      <td>402810</td>\n",
       "      <td>loss</td>\n",
       "      <td>2.985897</td>\n",
       "    </tr>\n",
       "    <tr>\n",
       "      <th>62</th>\n",
       "      <td>1908</td>\n",
       "      <td>Eugene V. Debs</td>\n",
       "      <td>Socialist</td>\n",
       "      <td>420852</td>\n",
       "      <td>loss</td>\n",
       "      <td>2.850866</td>\n",
       "    </tr>\n",
       "    <tr>\n",
       "      <th>66</th>\n",
       "      <td>1912</td>\n",
       "      <td>Eugene V. Debs</td>\n",
       "      <td>Socialist</td>\n",
       "      <td>901551</td>\n",
       "      <td>loss</td>\n",
       "      <td>6.004354</td>\n",
       "    </tr>\n",
       "    <tr>\n",
       "      <th>71</th>\n",
       "      <td>1916</td>\n",
       "      <td>Allan L. Benson</td>\n",
       "      <td>Socialist</td>\n",
       "      <td>590524</td>\n",
       "      <td>loss</td>\n",
       "      <td>3.194193</td>\n",
       "    </tr>\n",
       "    <tr>\n",
       "      <th>76</th>\n",
       "      <td>1920</td>\n",
       "      <td>Eugene V. Debs</td>\n",
       "      <td>Socialist</td>\n",
       "      <td>913693</td>\n",
       "      <td>loss</td>\n",
       "      <td>3.428282</td>\n",
       "    </tr>\n",
       "    <tr>\n",
       "      <th>85</th>\n",
       "      <td>1928</td>\n",
       "      <td>Norman Thomas</td>\n",
       "      <td>Socialist</td>\n",
       "      <td>267478</td>\n",
       "      <td>loss</td>\n",
       "      <td>0.728623</td>\n",
       "    </tr>\n",
       "    <tr>\n",
       "      <th>88</th>\n",
       "      <td>1932</td>\n",
       "      <td>Norman Thomas</td>\n",
       "      <td>Socialist</td>\n",
       "      <td>884885</td>\n",
       "      <td>loss</td>\n",
       "      <td>2.236211</td>\n",
       "    </tr>\n",
       "    <tr>\n",
       "      <th>92</th>\n",
       "      <td>1936</td>\n",
       "      <td>Norman Thomas</td>\n",
       "      <td>Socialist</td>\n",
       "      <td>187910</td>\n",
       "      <td>loss</td>\n",
       "      <td>0.412876</td>\n",
       "    </tr>\n",
       "    <tr>\n",
       "      <th>95</th>\n",
       "      <td>1940</td>\n",
       "      <td>Norman Thomas</td>\n",
       "      <td>Socialist</td>\n",
       "      <td>116599</td>\n",
       "      <td>loss</td>\n",
       "      <td>0.234237</td>\n",
       "    </tr>\n",
       "    <tr>\n",
       "      <th>102</th>\n",
       "      <td>1948</td>\n",
       "      <td>Norman Thomas</td>\n",
       "      <td>Socialist</td>\n",
       "      <td>139569</td>\n",
       "      <td>loss</td>\n",
       "      <td>0.286312</td>\n",
       "    </tr>\n",
       "    <tr>\n",
       "      <th>110</th>\n",
       "      <td>1956</td>\n",
       "      <td>T. Coleman Andrews</td>\n",
       "      <td>States' Rights</td>\n",
       "      <td>107929</td>\n",
       "      <td>loss</td>\n",
       "      <td>0.174883</td>\n",
       "    </tr>\n",
       "  </tbody>\n",
       "</table>\n",
       "</div>"
      ],
      "text/plain": [
       "     Year             Candidate                Party  Popular vote Result  \\\n",
       "25   1860  John C. Breckinridge  Southern Democratic        848019   loss   \n",
       "58   1904        Eugene V. Debs            Socialist        402810   loss   \n",
       "62   1908        Eugene V. Debs            Socialist        420852   loss   \n",
       "66   1912        Eugene V. Debs            Socialist        901551   loss   \n",
       "71   1916       Allan L. Benson            Socialist        590524   loss   \n",
       "76   1920        Eugene V. Debs            Socialist        913693   loss   \n",
       "85   1928         Norman Thomas            Socialist        267478   loss   \n",
       "88   1932         Norman Thomas            Socialist        884885   loss   \n",
       "92   1936         Norman Thomas            Socialist        187910   loss   \n",
       "95   1940         Norman Thomas            Socialist        116599   loss   \n",
       "102  1948         Norman Thomas            Socialist        139569   loss   \n",
       "110  1956    T. Coleman Andrews       States' Rights        107929   loss   \n",
       "\n",
       "             %  \n",
       "25   18.138998  \n",
       "58    2.985897  \n",
       "62    2.850866  \n",
       "66    6.004354  \n",
       "71    3.194193  \n",
       "76    3.428282  \n",
       "85    0.728623  \n",
       "88    2.236211  \n",
       "92    0.412876  \n",
       "95    0.234237  \n",
       "102   0.286312  \n",
       "110   0.174883  "
      ]
     },
     "execution_count": 28,
     "metadata": {},
     "output_type": "execute_result"
    }
   ],
   "source": [
    "#Series.str.startswith(pat) test if the start of each string element matches a pattern.\n",
    "elections[elections[\"Party\"].str.startswith(\"S\")]"
   ]
  },
  {
   "cell_type": "code",
   "execution_count": 29,
   "id": "6295b568-dc3f-409a-a271-9a6377bfdbf6",
   "metadata": {},
   "outputs": [
    {
     "data": {
      "text/html": [
       "<div>\n",
       "<style scoped>\n",
       "    .dataframe tbody tr th:only-of-type {\n",
       "        vertical-align: middle;\n",
       "    }\n",
       "\n",
       "    .dataframe tbody tr th {\n",
       "        vertical-align: top;\n",
       "    }\n",
       "\n",
       "    .dataframe thead th {\n",
       "        text-align: right;\n",
       "    }\n",
       "</style>\n",
       "<table border=\"1\" class=\"dataframe\">\n",
       "  <thead>\n",
       "    <tr style=\"text-align: right;\">\n",
       "      <th></th>\n",
       "      <th>Year</th>\n",
       "      <th>Candidate</th>\n",
       "      <th>Party</th>\n",
       "      <th>Popular vote</th>\n",
       "      <th>Result</th>\n",
       "      <th>%</th>\n",
       "    </tr>\n",
       "  </thead>\n",
       "  <tbody>\n",
       "    <tr>\n",
       "      <th>151</th>\n",
       "      <td>2000</td>\n",
       "      <td>Al Gore</td>\n",
       "      <td>Democratic</td>\n",
       "      <td>50999897</td>\n",
       "      <td>loss</td>\n",
       "      <td>48.491813</td>\n",
       "    </tr>\n",
       "    <tr>\n",
       "      <th>158</th>\n",
       "      <td>2004</td>\n",
       "      <td>John Kerry</td>\n",
       "      <td>Democratic</td>\n",
       "      <td>59028444</td>\n",
       "      <td>loss</td>\n",
       "      <td>48.306775</td>\n",
       "    </tr>\n",
       "    <tr>\n",
       "      <th>162</th>\n",
       "      <td>2008</td>\n",
       "      <td>Barack Obama</td>\n",
       "      <td>Democratic</td>\n",
       "      <td>69498516</td>\n",
       "      <td>win</td>\n",
       "      <td>53.023510</td>\n",
       "    </tr>\n",
       "    <tr>\n",
       "      <th>168</th>\n",
       "      <td>2012</td>\n",
       "      <td>Barack Obama</td>\n",
       "      <td>Democratic</td>\n",
       "      <td>65915795</td>\n",
       "      <td>win</td>\n",
       "      <td>51.258484</td>\n",
       "    </tr>\n",
       "    <tr>\n",
       "      <th>176</th>\n",
       "      <td>2016</td>\n",
       "      <td>Hillary Clinton</td>\n",
       "      <td>Democratic</td>\n",
       "      <td>65853514</td>\n",
       "      <td>loss</td>\n",
       "      <td>48.521539</td>\n",
       "    </tr>\n",
       "    <tr>\n",
       "      <th>178</th>\n",
       "      <td>2020</td>\n",
       "      <td>Joseph Biden</td>\n",
       "      <td>Democratic</td>\n",
       "      <td>81268924</td>\n",
       "      <td>win</td>\n",
       "      <td>51.311515</td>\n",
       "    </tr>\n",
       "  </tbody>\n",
       "</table>\n",
       "</div>"
      ],
      "text/plain": [
       "     Year        Candidate       Party  Popular vote Result          %\n",
       "151  2000          Al Gore  Democratic      50999897   loss  48.491813\n",
       "158  2004       John Kerry  Democratic      59028444   loss  48.306775\n",
       "162  2008     Barack Obama  Democratic      69498516    win  53.023510\n",
       "168  2012     Barack Obama  Democratic      65915795    win  51.258484\n",
       "176  2016  Hillary Clinton  Democratic      65853514   loss  48.521539\n",
       "178  2020     Joseph Biden  Democratic      81268924    win  51.311515"
      ]
     },
     "execution_count": 29,
     "metadata": {},
     "output_type": "execute_result"
    }
   ],
   "source": [
    "# DataFrame.query(expr) query the columns of a DataFrame with a boolean expression.\n",
    "elections.query('Year >= 2000 and Party == \"Democratic\"')"
   ]
  },
  {
   "cell_type": "markdown",
   "id": "f8b17ac1-4bed-463b-869d-35f1e3c88809",
   "metadata": {},
   "source": [
    "#### Handy Utility Functions"
   ]
  },
  {
   "cell_type": "code",
   "execution_count": 30,
   "id": "54c96cc9-77b1-45fd-8e0b-15baf5178c8c",
   "metadata": {},
   "outputs": [
    {
     "data": {
      "text/plain": [
       "1092"
      ]
     },
     "execution_count": 30,
     "metadata": {},
     "output_type": "execute_result"
    }
   ],
   "source": [
    "#size: return an int representing the number of elements in this object\n",
    "elections.size"
   ]
  },
  {
   "cell_type": "code",
   "execution_count": 31,
   "id": "5c820cd8-da9a-4276-9d89-cb69db11c7ed",
   "metadata": {},
   "outputs": [
    {
     "data": {
      "text/plain": [
       "(182, 6)"
      ]
     },
     "execution_count": 31,
     "metadata": {},
     "output_type": "execute_result"
    }
   ],
   "source": [
    "#shape: return a tuple representing the dimensionality of the DataFrame\n",
    "elections.shape"
   ]
  },
  {
   "cell_type": "code",
   "execution_count": 32,
   "id": "aca05270-e220-460b-97f3-2e07958997e7",
   "metadata": {},
   "outputs": [
    {
     "data": {
      "text/html": [
       "<div>\n",
       "<style scoped>\n",
       "    .dataframe tbody tr th:only-of-type {\n",
       "        vertical-align: middle;\n",
       "    }\n",
       "\n",
       "    .dataframe tbody tr th {\n",
       "        vertical-align: top;\n",
       "    }\n",
       "\n",
       "    .dataframe thead th {\n",
       "        text-align: right;\n",
       "    }\n",
       "</style>\n",
       "<table border=\"1\" class=\"dataframe\">\n",
       "  <thead>\n",
       "    <tr style=\"text-align: right;\">\n",
       "      <th></th>\n",
       "      <th>Year</th>\n",
       "      <th>Popular vote</th>\n",
       "      <th>%</th>\n",
       "    </tr>\n",
       "  </thead>\n",
       "  <tbody>\n",
       "    <tr>\n",
       "      <th>count</th>\n",
       "      <td>182.000000</td>\n",
       "      <td>1.820000e+02</td>\n",
       "      <td>182.000000</td>\n",
       "    </tr>\n",
       "    <tr>\n",
       "      <th>mean</th>\n",
       "      <td>1934.087912</td>\n",
       "      <td>1.235364e+07</td>\n",
       "      <td>27.470350</td>\n",
       "    </tr>\n",
       "    <tr>\n",
       "      <th>std</th>\n",
       "      <td>57.048908</td>\n",
       "      <td>1.907715e+07</td>\n",
       "      <td>22.968034</td>\n",
       "    </tr>\n",
       "    <tr>\n",
       "      <th>min</th>\n",
       "      <td>1824.000000</td>\n",
       "      <td>1.007150e+05</td>\n",
       "      <td>0.098088</td>\n",
       "    </tr>\n",
       "    <tr>\n",
       "      <th>25%</th>\n",
       "      <td>1889.000000</td>\n",
       "      <td>3.876395e+05</td>\n",
       "      <td>1.219996</td>\n",
       "    </tr>\n",
       "    <tr>\n",
       "      <th>50%</th>\n",
       "      <td>1936.000000</td>\n",
       "      <td>1.709375e+06</td>\n",
       "      <td>37.677893</td>\n",
       "    </tr>\n",
       "    <tr>\n",
       "      <th>75%</th>\n",
       "      <td>1988.000000</td>\n",
       "      <td>1.897775e+07</td>\n",
       "      <td>48.354977</td>\n",
       "    </tr>\n",
       "    <tr>\n",
       "      <th>max</th>\n",
       "      <td>2020.000000</td>\n",
       "      <td>8.126892e+07</td>\n",
       "      <td>61.344703</td>\n",
       "    </tr>\n",
       "  </tbody>\n",
       "</table>\n",
       "</div>"
      ],
      "text/plain": [
       "              Year  Popular vote           %\n",
       "count   182.000000  1.820000e+02  182.000000\n",
       "mean   1934.087912  1.235364e+07   27.470350\n",
       "std      57.048908  1.907715e+07   22.968034\n",
       "min    1824.000000  1.007150e+05    0.098088\n",
       "25%    1889.000000  3.876395e+05    1.219996\n",
       "50%    1936.000000  1.709375e+06   37.677893\n",
       "75%    1988.000000  1.897775e+07   48.354977\n",
       "max    2020.000000  8.126892e+07   61.344703"
      ]
     },
     "execution_count": 32,
     "metadata": {},
     "output_type": "execute_result"
    }
   ],
   "source": [
    "#The describe function generates descriptive statistics of the DataFrame.\n",
    "#Descriptive statistics include those that summarize the central tendency, dispersion and shape of a dataset’s distribution.\n",
    "elections.describe()"
   ]
  },
  {
   "cell_type": "code",
   "execution_count": 33,
   "id": "ab451ac6-825d-49d5-bf0d-7b2562c89a62",
   "metadata": {},
   "outputs": [
    {
     "data": {
      "text/html": [
       "<div>\n",
       "<style scoped>\n",
       "    .dataframe tbody tr th:only-of-type {\n",
       "        vertical-align: middle;\n",
       "    }\n",
       "\n",
       "    .dataframe tbody tr th {\n",
       "        vertical-align: top;\n",
       "    }\n",
       "\n",
       "    .dataframe thead th {\n",
       "        text-align: right;\n",
       "    }\n",
       "</style>\n",
       "<table border=\"1\" class=\"dataframe\">\n",
       "  <thead>\n",
       "    <tr style=\"text-align: right;\">\n",
       "      <th></th>\n",
       "      <th>Year</th>\n",
       "      <th>Candidate</th>\n",
       "      <th>Party</th>\n",
       "      <th>Popular vote</th>\n",
       "      <th>Result</th>\n",
       "      <th>%</th>\n",
       "    </tr>\n",
       "  </thead>\n",
       "  <tbody>\n",
       "    <tr>\n",
       "      <th>138</th>\n",
       "      <td>1988</td>\n",
       "      <td>Ron Paul</td>\n",
       "      <td>Libertarian</td>\n",
       "      <td>431750</td>\n",
       "      <td>loss</td>\n",
       "      <td>0.472660</td>\n",
       "    </tr>\n",
       "    <tr>\n",
       "      <th>132</th>\n",
       "      <td>1984</td>\n",
       "      <td>David Bergland</td>\n",
       "      <td>Libertarian</td>\n",
       "      <td>228111</td>\n",
       "      <td>loss</td>\n",
       "      <td>0.247245</td>\n",
       "    </tr>\n",
       "    <tr>\n",
       "      <th>134</th>\n",
       "      <td>1984</td>\n",
       "      <td>Walter Mondale</td>\n",
       "      <td>Democratic</td>\n",
       "      <td>37577352</td>\n",
       "      <td>loss</td>\n",
       "      <td>40.729429</td>\n",
       "    </tr>\n",
       "    <tr>\n",
       "      <th>36</th>\n",
       "      <td>1880</td>\n",
       "      <td>James Garfield</td>\n",
       "      <td>Republican</td>\n",
       "      <td>4453337</td>\n",
       "      <td>win</td>\n",
       "      <td>48.369234</td>\n",
       "    </tr>\n",
       "    <tr>\n",
       "      <th>115</th>\n",
       "      <td>1968</td>\n",
       "      <td>George Wallace</td>\n",
       "      <td>American Independent</td>\n",
       "      <td>9901118</td>\n",
       "      <td>loss</td>\n",
       "      <td>13.571218</td>\n",
       "    </tr>\n",
       "  </tbody>\n",
       "</table>\n",
       "</div>"
      ],
      "text/plain": [
       "     Year       Candidate                 Party  Popular vote Result  \\\n",
       "138  1988        Ron Paul           Libertarian        431750   loss   \n",
       "132  1984  David Bergland           Libertarian        228111   loss   \n",
       "134  1984  Walter Mondale            Democratic      37577352   loss   \n",
       "36   1880  James Garfield            Republican       4453337    win   \n",
       "115  1968  George Wallace  American Independent       9901118   loss   \n",
       "\n",
       "             %  \n",
       "138   0.472660  \n",
       "132   0.247245  \n",
       "134  40.729429  \n",
       "36   48.369234  \n",
       "115  13.571218  "
      ]
     },
     "execution_count": 33,
     "metadata": {},
     "output_type": "execute_result"
    }
   ],
   "source": [
    "#sample(n): return a random sample of items from an axis of object.\n",
    "# n : number of sampled items \n",
    "elections.sample(5)"
   ]
  },
  {
   "cell_type": "code",
   "execution_count": 36,
   "id": "ccba793f-ea24-41d5-ac74-03656359d168",
   "metadata": {},
   "outputs": [
    {
     "data": {
      "text/plain": [
       "Party      \n",
       "Democratic     47\n",
       "Republican     41\n",
       "Libertarian    12\n",
       "Prohibition    11\n",
       "Socialist      10\n",
       "dtype: int64"
      ]
     },
     "execution_count": 36,
     "metadata": {},
     "output_type": "execute_result"
    }
   ],
   "source": [
    "# value_counts: return a Series containing counts of unique values\n",
    "# The resulting object will be in descending order so that the first element is the most frequently-occurring element. \n",
    "# Excludes NA values by default.\n",
    "elections[['Party']].value_counts().head()"
   ]
  },
  {
   "cell_type": "code",
   "execution_count": 35,
   "id": "ab9b6908-e749-43bc-95f1-2069691891df",
   "metadata": {},
   "outputs": [
    {
     "data": {
      "text/html": [
       "<div>\n",
       "<style scoped>\n",
       "    .dataframe tbody tr th:only-of-type {\n",
       "        vertical-align: middle;\n",
       "    }\n",
       "\n",
       "    .dataframe tbody tr th {\n",
       "        vertical-align: top;\n",
       "    }\n",
       "\n",
       "    .dataframe thead th {\n",
       "        text-align: right;\n",
       "    }\n",
       "</style>\n",
       "<table border=\"1\" class=\"dataframe\">\n",
       "  <thead>\n",
       "    <tr style=\"text-align: right;\">\n",
       "      <th></th>\n",
       "      <th>Year</th>\n",
       "      <th>Candidate</th>\n",
       "      <th>Party</th>\n",
       "      <th>Popular vote</th>\n",
       "      <th>Result</th>\n",
       "      <th>%</th>\n",
       "    </tr>\n",
       "  </thead>\n",
       "  <tbody>\n",
       "    <tr>\n",
       "      <th>178</th>\n",
       "      <td>2020</td>\n",
       "      <td>Joseph Biden</td>\n",
       "      <td>Democratic</td>\n",
       "      <td>81268924</td>\n",
       "      <td>win</td>\n",
       "      <td>51.311515</td>\n",
       "    </tr>\n",
       "    <tr>\n",
       "      <th>162</th>\n",
       "      <td>2008</td>\n",
       "      <td>Barack Obama</td>\n",
       "      <td>Democratic</td>\n",
       "      <td>69498516</td>\n",
       "      <td>win</td>\n",
       "      <td>53.023510</td>\n",
       "    </tr>\n",
       "    <tr>\n",
       "      <th>168</th>\n",
       "      <td>2012</td>\n",
       "      <td>Barack Obama</td>\n",
       "      <td>Democratic</td>\n",
       "      <td>65915795</td>\n",
       "      <td>win</td>\n",
       "      <td>51.258484</td>\n",
       "    </tr>\n",
       "    <tr>\n",
       "      <th>173</th>\n",
       "      <td>2016</td>\n",
       "      <td>Donald Trump</td>\n",
       "      <td>Republican</td>\n",
       "      <td>62984828</td>\n",
       "      <td>win</td>\n",
       "      <td>46.407862</td>\n",
       "    </tr>\n",
       "    <tr>\n",
       "      <th>157</th>\n",
       "      <td>2004</td>\n",
       "      <td>George W. Bush</td>\n",
       "      <td>Republican</td>\n",
       "      <td>62040610</td>\n",
       "      <td>win</td>\n",
       "      <td>50.771824</td>\n",
       "    </tr>\n",
       "  </tbody>\n",
       "</table>\n",
       "</div>"
      ],
      "text/plain": [
       "     Year       Candidate       Party  Popular vote Result          %\n",
       "178  2020    Joseph Biden  Democratic      81268924    win  51.311515\n",
       "162  2008    Barack Obama  Democratic      69498516    win  53.023510\n",
       "168  2012    Barack Obama  Democratic      65915795    win  51.258484\n",
       "173  2016    Donald Trump  Republican      62984828    win  46.407862\n",
       "157  2004  George W. Bush  Republican      62040610    win  50.771824"
      ]
     },
     "execution_count": 35,
     "metadata": {},
     "output_type": "execute_result"
    }
   ],
   "source": [
    "# sort_values: sort by the values along the specified \n",
    "elections[elections['Result'] == 'win'].sort_values(by = 'Popular vote', ascending = False).head()"
   ]
  }
 ],
 "metadata": {
  "kernelspec": {
   "display_name": "Python 3 (ipykernel)",
   "language": "python",
   "name": "python3"
  },
  "language_info": {
   "codemirror_mode": {
    "name": "ipython",
    "version": 3
   },
   "file_extension": ".py",
   "mimetype": "text/x-python",
   "name": "python",
   "nbconvert_exporter": "python",
   "pygments_lexer": "ipython3",
   "version": "3.9.7"
  }
 },
 "nbformat": 4,
 "nbformat_minor": 5
}
